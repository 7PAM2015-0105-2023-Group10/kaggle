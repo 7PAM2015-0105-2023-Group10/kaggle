train_data.shape
train_data.info()
